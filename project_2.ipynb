{
 "cells": [
  {
   "cell_type": "markdown",
   "id": "a118c506",
   "metadata": {},
   "source": [
    "# Project 2: Classification with Kernelized Perceptron\n",
    "\n",
    "## Objectives\n",
    "Your goal in this project is to get comfortable in implementing kernelized perceptron for classification. To complete this project, you should understand the following:\n",
    "\n",
    "* How to use basic math and machine learning modules in python such as numpy, matplotlib, and sklearn\n",
    "* How to train a kernel perceoptron model *from scratch*\n",
    "* How to select an approprite kernel function for a task.\n",
    "* How to perform model section when facing multiple choices\n",
    "* How to evaluate the test results and visualize the outcome of an ML model "
   ]
  },
  {
   "cell_type": "markdown",
   "id": "bfedf32f",
   "metadata": {},
   "source": [
    "## Deliverable\n",
    "* Project report/writeup: A `project2_report_lastname.pdf` file with corresponding plots and results for the project. Follow the `Project 2 - Report (Individual Submission)` link on Gradescope to upload this file. The project report should include a brief justification of your solution at a high-level, e.g., using any relevant explanations, equations, or pictures that help to explain your solution. You should also describe what your code does, e.g. using a couple of sentences per function to describe your code structure. \n",
    "\n",
    "* Source code: A `project2_src_lastname1[_lastname2].ipynb` (or `.zip`) file with a working copy of your solutions compiled in a Jupyter notebook. Follow the `Project 2 - Source Code (Group Submission)` link to upload this file.\n",
    "\n",
    "\n",
    "## Logistics\n",
    "\n",
    "* You can work in groups of 1-2 students for each course project, and it's your responsibility to find a group (e.g. use Ed Discussion). \n",
    "* Every member of a group must complete and submit the project report/writeup individually. While the source code can be the same for all group members, the project report needs to be written independently by each person and, thus, should differ among team member and students more generally.\n",
    "* One one group member need to submit the source code. If you submit as a group, make sure to include your teammate in the group submission. Instructions for team submission can be found [here](https://help.gradescope.com/article/m5qz2xsnjy-student-add-group-members).\n",
    "* Grades will be provided based on the individual project report. The source code submission will not be graded, but the teaching staff may check the source files if they see the need for reproducing your results when going through your project report. \n",
    "* Failure to submit the source code will lead to a deduction of points from your total.\n"
   ]
  },
  {
   "cell_type": "markdown",
   "id": "b9303c50",
   "metadata": {},
   "source": [
    "## Task 2A: \n",
    "\n",
    "<!-- ### Loading math, machine learning, and visualization modules\n",
    "We start importing some modules and running some magic commands -->"
   ]
  },
  {
   "cell_type": "markdown",
   "id": "14e864b1",
   "metadata": {},
   "source": [
    "In this problem, you will use perceptron to deal with a 2-D classification problem.\n",
    "\n",
    "### Dataloader\n",
    "The reference code for generating the training and test set (and plot) is provided as below.\n",
    "\n"
   ]
  },
  {
   "cell_type": "code",
   "execution_count": 1,
   "id": "e3d04a9e",
   "metadata": {},
   "outputs": [
    {
     "data": {
      "image/png": "[encoded data removed]",
      "text/plain": [
       "<Figure size 640x480 with 1 Axes>"
      ]
     },
     "metadata": {},
     "output_type": "display_data"
    }
   ],
   "source": [
    "import numpy as np\n",
    "import matplotlib.pyplot as plt\n",
    "from numpy import linalg\n",
    "from sklearn.metrics import accuracy_score\n",
    "# fix random seed for reproducibility\n",
    "np.random.seed(40)\n",
    "\n",
    "# Step 1: Define dataset parameters\n",
    "num_samples = 100\n",
    "dimensionality = 2\n",
    "num_classes = 2\n",
    "\n",
    "# Step 2: Generate random data points for each class\n",
    "mean_class1 = np.random.randn(dimensionality) * 2\n",
    "mean_class2 = np.random.randn(dimensionality) * 2 + 5\n",
    "data_class1 = mean_class1 + np.random.randn(num_samples // 2, dimensionality)\n",
    "data_class2 = mean_class2 + np.random.randn(num_samples // 2, dimensionality)\n",
    "\n",
    "# Step 3: Assign class labels (-1 for class 1 and 1 for class 2)\n",
    "labels_class1 = -np.ones(num_samples // 2)\n",
    "labels_class2 = np.ones(num_samples // 2)\n",
    "\n",
    "# Step 4: Combine data and labels, and shuffle the dataset\n",
    "data = np.vstack((data_class1, data_class2))\n",
    "labels = np.hstack((labels_class1, labels_class2))\n",
    "permutation = np.random.permutation(num_samples)\n",
    "data = data[permutation]\n",
    "labels = labels[permutation]\n",
    "\n",
    "# Split the dataset into training and testing sets (e.g., 80% training, 20% testing)\n",
    "split_ratio = 0.8\n",
    "split_index = int(split_ratio * num_samples)\n",
    "Xtr, Xtest = data[:split_index], data[split_index:]\n",
    "Ytr, Ytest  = labels[:split_index], labels[split_index:]\n",
    "\n",
    "# Visualize the dataset (optional)\n",
    "plt.scatter(data_class1[:, 0], data_class1[:, 1], label='Class 1 (positive)', marker='o')\n",
    "plt.scatter(data_class2[:, 0], data_class2[:, 1], label='Class 2 (negative)', marker='x')\n",
    "plt.xlabel('Feature 1')\n",
    "plt.ylabel('Feature 2')\n",
    "plt.legend()\n",
    "plt.show()"
   ]
  },
  {
   "cell_type": "markdown",
   "id": "8736474b",
   "metadata": {},
   "source": [
    "### Perceptron (30pt)\n",
    "\n",
    "In this section, we are going to implement a binary classifier with the `Perceptron` class. Fill in the code in the `Perceptron` class to implement the `fit`, `project`, and `predict` methods."
   ]
  },
  {
   "cell_type": "code",
   "execution_count": 2,
   "id": "82313eb3",
   "metadata": {},
   "outputs": [
    {
     "data": {
      "text/plain": [
       "(2,)"
      ]
     },
     "execution_count": 2,
     "metadata": {},
     "output_type": "execute_result"
    }
   ],
   "source": [
    "np.zeros(2, dtype=np.float64).shape"
   ]
  },
  {
   "cell_type": "code",
   "execution_count": 3,
   "id": "c53f6297",
   "metadata": {},
   "outputs": [],
   "source": [
    "class Perceptron(object):\n",
    "\n",
    "    def __init__(self, T=1):\n",
    "        self.T = T # number of iterations\n",
    "        \n",
    "    def fit(self, X, y):\n",
    "        \"\"\"\n",
    "        Train perceptron model on data X with labels y and iteration T.\n",
    "        \"\"\"\n",
    "        n_samples, n_features = X.shape\n",
    "        self.w = np.zeros(n_features, dtype=np.float64)\n",
    "        self.b = 0.0\n",
    "        y_pred = X @ self.w + self.b\n",
    "        \n",
    "        for _ in range(self.T):\n",
    "            for i in range(n_samples):\n",
    "                if self.predict(X[i])[0] != y[i]:\n",
    "                    self.w = self.w + y[i] * X[i]\n",
    "                    self.b = self.b + y[i]\n",
    "        \n",
    "    def predict(self, X):\n",
    "        X = np.atleast_2d(X)\n",
    "        return np.sign(X@self.w + self.b)"
   ]
  },
  {
   "cell_type": "code",
   "execution_count": 4,
   "id": "46077362",
   "metadata": {},
   "outputs": [
    {
     "name": "stdout",
     "output_type": "stream",
     "text": [
      "Accuracy: 100.00%\n"
     ]
    }
   ],
   "source": [
    "# You should achieve 100% accuracy on the test set\n",
    "model = Perceptron(T=1)\n",
    "model.fit(Xtr, Ytr)\n",
    "y_pred = model.predict(Xtest)\n",
    "print('Accuracy: %.2f%%' % (np.mean(y_pred == Ytest) * 100))"
   ]
  },
  {
   "cell_type": "code",
   "execution_count": 5,
   "id": "42666ad6",
   "metadata": {},
   "outputs": [
    {
     "data": {
      "image/png": "[encoded data removed]",
      "text/plain": [
       "<Figure size 640x480 with 1 Axes>"
      ]
     },
     "metadata": {},
     "output_type": "display_data"
    }
   ],
   "source": [
    "# Plot the decision boundary\n",
    "w = model.w\n",
    "b = model.b\n",
    "x1 = np.linspace(-5, 10, 100)\n",
    "x2 = (-w[0] * x1 - b) / w[1]\n",
    "plt.plot(x1, x2, 'k-')\n",
    "plt.scatter(data_class1[:, 0], data_class1[:, 1], label='Class 1 (positive)', marker='o')\n",
    "plt.scatter(data_class2[:, 0], data_class2[:, 1], label='Class 2 (negative)', marker='x')\n",
    "plt.xlabel('Feature 1')\n",
    "plt.ylabel('Feature 2')\n",
    "plt.legend()\n",
    "plt.show()"
   ]
  },
  {
   "cell_type": "markdown",
   "id": "3fea94f9",
   "metadata": {},
   "source": [
    "### Kernel Trick (40pt)\n",
    "\n",
    "Recall that in class (\"Kernel Methods\"), we discussed the *Kernel Perceptron* algorithm. The decision function for the Kernel Perceptron is given by\n",
    "\n",
    "$$\n",
    "f(\\mathbf{x}) = \\text{sign}\\left(\\sum_{i=1}^{n} \\alpha_i y_i k(\\mathbf{x}_i, \\mathbf{x})\\right)\n",
    "$$\n",
    "\n",
    "where $k(\\mathbf{x}_i, \\mathbf{x})$ is the kernel function, $\\alpha_i$ are the learned weights, and $y_i$ are the labels.\n",
    "\n",
    "The kernel (Gram) matrix induced by kernel function *k* over *n* data points is defined as\n",
    "\n",
    "$$\n",
    "\\mathbf{K}=\n",
    "\\left(\\begin{array}{ccc} \n",
    "k(\\mathbf{x}_1,\\mathbf{x}_1) & \\dots & k(\\mathbf{x}_1,\\mathbf{x}_n)\\\\\n",
    "\\vdots & \\ddots & \\vdots \\\\\n",
    "k(\\mathbf{x}_n,\\mathbf{x}_1) & \\dots & k(\\mathbf{x}_n,\\mathbf{x}_n)\n",
    "\\end{array}\\right)\n",
    "$$ \n",
    "\n",
    "Given a test data point **x**, the predicted label is\n",
    "\n",
    "$$\n",
    "\\hat{y} = \\text{sign}\\left(\\sum_{i=1}^{n} \\alpha_i y_i k(\\mathbf{x}_i, \\mathbf{x})\\right)\n",
    "$$\n",
    "\n",
    "The Kernel Perceptron algorithm iteratively updates the weights $\\alpha_i$ based on the misclassified points in the training set (please refer to lecture notes on \"kernel\")."
   ]
  },
  {
   "cell_type": "code",
   "execution_count": 6,
   "id": "636f55d6",
   "metadata": {
    "scrolled": false
   },
   "outputs": [
    {
     "data": {
      "image/png": "[encoded data removed]",
      "text/plain": [
       "<Figure size 640x480 with 1 Axes>"
      ]
     },
     "metadata": {},
     "output_type": "display_data"
    }
   ],
   "source": [
    "import numpy as np\n",
    "import matplotlib.pyplot as plt\n",
    "from sklearn.model_selection import train_test_split\n",
    "\n",
    "\n",
    "# Fix random seed for reproducibility\n",
    "np.random.seed(42)\n",
    "\n",
    "# Number of samples per quadrant\n",
    "n = 50\n",
    "\n",
    "# Standard deviation for Gaussian distribution\n",
    "std_dev = 0.1\n",
    "\n",
    "# Quadrant 1 and 3: label 1\n",
    "q1 = np.random.normal(loc=[0.25, 0.25], scale=std_dev, size=(n, 2))\n",
    "q3 = np.random.normal(loc=[0.75, 0.75], scale=std_dev, size=(n, 2))\n",
    "\n",
    "# Quadrant 2 and 4: label -1\n",
    "q2 = np.random.normal(loc=[0.75, 0.25], scale=std_dev, size=(n, 2))\n",
    "q4 = np.random.normal(loc=[0.25, 0.75], scale=std_dev, size=(n, 2))\n",
    "\n",
    "X = np.vstack((q1, q3, q2, q4))\n",
    "y = np.hstack((np.ones(2*n), -np.ones(2*n)))\n",
    "\n",
    "# Split the data into training and testing sets\n",
    "Xtr, Xtest, Ytr, Ytest = train_test_split(X, y, test_size=0.2, random_state=42)\n",
    "\n",
    "# Visualize the dataset\n",
    "plt.scatter(X[:, 0], X[:, 1], c=y)\n",
    "plt.show()"
   ]
  },
  {
   "cell_type": "code",
   "execution_count": 7,
   "id": "8d058507",
   "metadata": {},
   "outputs": [
    {
     "data": {
      "text/plain": [
       "(160, 2)"
      ]
     },
     "execution_count": 7,
     "metadata": {},
     "output_type": "execute_result"
    }
   ],
   "source": [
    "Xtr.shape"
   ]
  },
  {
   "cell_type": "code",
   "execution_count": 17,
   "id": "6b266efe",
   "metadata": {},
   "outputs": [],
   "source": [
    "# Plot the decision boundary\n",
    "def plot_decision_boundary_kernel_perceptron(model):\n",
    "    x1 = np.linspace(0, 1, 50)\n",
    "    x2 = np.linspace(0, 1, 50)\n",
    "    xx1, xx2 = np.meshgrid(x1, x2)\n",
    "    Z = np.zeros(xx1.shape)\n",
    "    for i in range(xx1.shape[0]):\n",
    "        for j in range(xx1.shape[1]):\n",
    "            Z[i,j] = model.predict([xx1[i,j], xx2[i,j]])\n",
    "    plt.contourf(xx1, xx2, Z, alpha=0.4)\n",
    "    plt.scatter(X[:, 0], X[:, 1], c=y)\n",
    "    plt.show()"
   ]
  },
  {
   "cell_type": "markdown",
   "id": "eebe9f23",
   "metadata": {},
   "source": [
    "Recall in lecture, we have seen different kernels for $\\mathbb{R}^d$. Here are three common kernels below:\n",
    "\n",
    "\n",
    "$$\n",
    "k_{\\text{linear}}(\\mathbf{x},\\mathbf{x}')=\\mathbf{x}^\\top \\mathbf{x}.\n",
    "$$\n",
    "\n",
    "$$\n",
    "k_{\\text{poly}}(\\mathbf{x},\\mathbf{x}')=(1+\\mathbf{x}^\\top \\mathbf{x}')^d.\n",
    "$$\n",
    "\n",
    "$$\n",
    "k_{\\text{RBF}}(\\mathbf{x},\\mathbf{x}') = \\exp(-\\frac{\\lVert \\mathbf{x}-\\mathbf{x'} \\rVert^2_2}{\\sigma^2})\n",
    "$$"
   ]
  },
  {
   "cell_type": "markdown",
   "id": "98bf1cc7",
   "metadata": {},
   "source": [
    "Please fill the following code block for kernel functions and kernel perceptron. Then run the next four code blocks to see decision boundaries corresponding to different kernels. (You should *not* use the other libraries such as scikit-learn.)"
   ]
  },
  {
   "cell_type": "code",
   "execution_count": 1,
   "id": "b5f88ae5",
   "metadata": {},
   "outputs": [],
   "source": [
    "# from numpy.linalg import norm\n",
    "class LinearKernel:\n",
    "    def __init__(self):\n",
    "        pass\n",
    "    def __call__(self, x, y):\n",
    "#         print(x.shape,y.shape)\n",
    "        return x@y\n",
    "    \n",
    "\n",
    "class PolynomialKernel:\n",
    "    def __init__(self, p=1):\n",
    "        self.p = p\n",
    "\n",
    "    def __call__(self, x, y):\n",
    "        return (1 + x@y)**self.p\n",
    "\n",
    "class GaussianKernel:\n",
    "    def __init__(self, sigma=5):\n",
    "        self.sigma = sigma\n",
    "\n",
    "    def __call__(self, x, y):\n",
    "#         print(x.shape,y.shape)\n",
    "        return np.exp(-(np.linalg.norm(x - y))**2/(self.sigma**2))\n",
    "    \n",
    "class KernelPerceptron(object):\n",
    "\n",
    "    def __init__(self, kernel=LinearKernel(), T=1):\n",
    "        self.kernel = kernel\n",
    "        self.T = T # number of iterations\n",
    "        self.alpha = None\n",
    "        self.Xtra = None\n",
    "        self.ytra = None\n",
    "        self.eta = 1\n",
    "        \n",
    "    def fit(self, X, y):\n",
    "        self.Xtra, self.ytra = X, y\n",
    "        n_samples, n_features = X.shape\n",
    "        self.alpha = np.zeros(n_samples, dtype=np.float64)\n",
    "\n",
    "        # Gram matrix\n",
    "        matrix = np.zeros((n_samples, n_samples))\n",
    "        for i in range(n_samples):\n",
    "            for j in range(n_samples):\n",
    "                matrix[i, j] = self.kernel(X[i], X[j])\n",
    "\n",
    "        # Training loop to update alpha\n",
    "        for _ in range(self.T):\n",
    "            for i in range(n_samples):\n",
    "                y_pred = np.sum(self.alpha * self.ytra * matrix[i, :])\n",
    "                y_pred = np.sign(y_pred)\n",
    "                if y_pred != y[i]:\n",
    "                    self.alpha[i] += self.eta\n",
    "    \n",
    "    def predict(self, X):\n",
    "        X = np.atleast_2d(X)\n",
    "        print(X.shape)\n",
    "        n_samples, n_features = X.shape\n",
    "        matrix = np.zeros((n_samples, self.Xtra.shape[0]))\n",
    "        y_pred = np.zeros(n_samples)\n",
    "        for i in range(n_samples):\n",
    "            ret = 0\n",
    "            for j in range(self.Xtra.shape[0]):\n",
    "                k = self.kernel(X[i], self.Xtra[j])\n",
    "                ret += self.alpha[j] * self.ytra[j] * k\n",
    "            y_pred[i] = ret\n",
    "        return np.sign(y_pred)\n",
    "        "
   ]
  },
  {
   "cell_type": "markdown",
   "id": "8803cf12",
   "metadata": {},
   "source": [
    "#### Is the dataset linearly separable?\n",
    "Try the linear kernel and plot the decision boundary. You will find that linear kernel couldn't do the job."
   ]
  },
  {
   "cell_type": "code",
   "execution_count": 2,
   "id": "9e10ff2d",
   "metadata": {},
   "outputs": [
    {
     "ename": "NameError",
     "evalue": "name 'Xtr' is not defined",
     "output_type": "error",
     "traceback": [
      "\u001b[0;31m---------------------------------------------------------------------------\u001b[0m",
      "\u001b[0;31mNameError\u001b[0m                                 Traceback (most recent call last)",
      "Cell \u001b[0;32mIn[2], line 3\u001b[0m\n\u001b[1;32m      1\u001b[0m \u001b[38;5;66;03m## results for linear kernel\u001b[39;00m\n\u001b[1;32m      2\u001b[0m model \u001b[38;5;241m=\u001b[39m KernelPerceptron(kernel\u001b[38;5;241m=\u001b[39mLinearKernel(), T\u001b[38;5;241m=\u001b[39m\u001b[38;5;241m1\u001b[39m)\n\u001b[0;32m----> 3\u001b[0m model\u001b[38;5;241m.\u001b[39mfit(Xtr, Ytr)\n\u001b[1;32m      4\u001b[0m y_pred \u001b[38;5;241m=\u001b[39m model\u001b[38;5;241m.\u001b[39mpredict(Xtest)\n\u001b[1;32m      5\u001b[0m \u001b[38;5;28mprint\u001b[39m(\u001b[38;5;124m'\u001b[39m\u001b[38;5;124mAccuracy: \u001b[39m\u001b[38;5;132;01m%.2f\u001b[39;00m\u001b[38;5;132;01m%%\u001b[39;00m\u001b[38;5;124m'\u001b[39m \u001b[38;5;241m%\u001b[39m (accuracy_score(Ytest, y_pred) \u001b[38;5;241m*\u001b[39m \u001b[38;5;241m100\u001b[39m))\n",
      "\u001b[0;31mNameError\u001b[0m: name 'Xtr' is not defined"
     ]
    }
   ],
   "source": [
    "## results for linear kernel\n",
    "model = KernelPerceptron(kernel=LinearKernel(), T=1)\n",
    "model.fit(Xtr, Ytr)\n",
    "y_pred = model.predict(Xtest)\n",
    "print('Accuracy: %.2f%%' % (accuracy_score(Ytest, y_pred) * 100))\n",
    "plot_decision_boundary_kernel_perceptron(model)"
   ]
  },
  {
   "cell_type": "markdown",
   "id": "76ee2ade",
   "metadata": {},
   "source": [
    "#### Can we do better with more powerful kernels?\n",
    "Try to tune the hyperparameters of kernels and number of iterations of achieve accuracy above 90% with `PolynomialKernel` and  `GaussianKernel`."
   ]
  },
  {
   "cell_type": "code",
   "execution_count": 3,
   "id": "552a9ff3",
   "metadata": {},
   "outputs": [
    {
     "ename": "NameError",
     "evalue": "name 'Xtr' is not defined",
     "output_type": "error",
     "traceback": [
      "\u001b[0;31m---------------------------------------------------------------------------\u001b[0m",
      "\u001b[0;31mNameError\u001b[0m                                 Traceback (most recent call last)",
      "Cell \u001b[0;32mIn[3], line 3\u001b[0m\n\u001b[1;32m      1\u001b[0m \u001b[38;5;66;03m## results for polynomial_kernel\u001b[39;00m\n\u001b[1;32m      2\u001b[0m model \u001b[38;5;241m=\u001b[39m KernelPerceptron(kernel\u001b[38;5;241m=\u001b[39mPolynomialKernel(p\u001b[38;5;241m=\u001b[39m\u001b[38;5;241m10\u001b[39m), T\u001b[38;5;241m=\u001b[39m\u001b[38;5;241m10\u001b[39m)\n\u001b[0;32m----> 3\u001b[0m model\u001b[38;5;241m.\u001b[39mfit(Xtr, Ytr)\n\u001b[1;32m      4\u001b[0m y_pred \u001b[38;5;241m=\u001b[39m model\u001b[38;5;241m.\u001b[39mpredict(Xtest)\n\u001b[1;32m      5\u001b[0m \u001b[38;5;28mprint\u001b[39m(\u001b[38;5;124m'\u001b[39m\u001b[38;5;124mAccuracy: \u001b[39m\u001b[38;5;132;01m%.2f\u001b[39;00m\u001b[38;5;132;01m%%\u001b[39;00m\u001b[38;5;124m'\u001b[39m \u001b[38;5;241m%\u001b[39m (accuracy_score(Ytest, y_pred) \u001b[38;5;241m*\u001b[39m \u001b[38;5;241m100\u001b[39m))\n",
      "\u001b[0;31mNameError\u001b[0m: name 'Xtr' is not defined"
     ]
    }
   ],
   "source": [
    "## results for polynomial_kernel\n",
    "model = KernelPerceptron(kernel=PolynomialKernel(p=10), T=10)\n",
    "model.fit(Xtr, Ytr)\n",
    "y_pred = model.predict(Xtest)\n",
    "print('Accuracy: %.2f%%' % (accuracy_score(Ytest, y_pred) * 100))\n",
    "plot_decision_boundary_kernel_perceptron(model)"
   ]
  },
  {
   "cell_type": "code",
   "execution_count": 21,
   "id": "e2e55064",
   "metadata": {},
   "outputs": [
    {
     "name": "stdout",
     "output_type": "stream",
     "text": [
      "Accuracy: 97.50%\n"
     ]
    },
    {
     "data": {
      "image/png": "[encoded data removed]",
      "text/plain": [
       "<Figure size 640x480 with 1 Axes>"
      ]
     },
     "metadata": {},
     "output_type": "display_data"
    }
   ],
   "source": [
    "## results for gaussian_kernel\n",
    "model = KernelPerceptron(kernel=GaussianKernel(sigma=10), T=100)\n",
    "model.fit(Xtr, Ytr)\n",
    "y_pred = model.predict(Xtest)\n",
    "print('Accuracy: %.2f%%' % (np.mean(y_pred == Ytest) * 100))\n",
    "plot_decision_boundary_kernel_perceptron(model)"
   ]
  },
  {
   "cell_type": "markdown",
   "id": "ed3a6462",
   "metadata": {},
   "source": [
    "## Task 2B: Real World Data: Seoul Bike Rental Data (30pt)\n",
    "\n",
    "In this dataset on bike rentals in Seoul, there are 6 features related to weather conditions and 1 feature denoting the hour of the day. The response label is the number of rented bikes. The task is to predict whether `Rented Bike Count` is greater than 500 from the other features.\n",
    "\n",
    "<!-- ### Loading math, machine learning, and visualization modules\n",
    "We start importing some modules and running some magic commands -->"
   ]
  },
  {
   "cell_type": "code",
   "execution_count": null,
   "id": "cb3fc922",
   "metadata": {},
   "outputs": [],
   "source": [
    "# Unzip the data to the current directory. Change the path accordingly if needed.\n",
    "# You may use your OS tool or the following code.\n",
    "# install unzip if needed\n",
    "!unzip ./pa2_data.zip"
   ]
  },
  {
   "cell_type": "code",
   "execution_count": 23,
   "id": "f6c7cf31",
   "metadata": {},
   "outputs": [
    {
     "name": "stdout",
     "output_type": "stream",
     "text": [
      "Shape X (1000, 7)\n",
      "Shape y (1000, 1)\n",
      "y distribution:  (array([-1,  1]), array([478, 522]))\n"
     ]
    }
   ],
   "source": [
    "import numpy as np\n",
    "from sklearn.model_selection import train_test_split\n",
    "from sklearn.preprocessing import StandardScaler\n",
    "import pandas as pd\n",
    "\n",
    "filename = 'data/SeoulBikeData.csv'\n",
    "df = pd.read_csv(filename).drop(['Date', 'Seasons', 'Holiday', 'Functioning Day'], axis=1)\n",
    "df = df[(df['Rented Bike Count'] <= 500) | (df['Rented Bike Count'] > 500)]\n",
    "df = df.sample(n=1000, random_state=4)\n",
    "X_s = df.drop(['Rented Bike Count'],  axis=1)[[\n",
    "                                            'Hour', \n",
    "                                            'Temperature (deg C)', \n",
    "                                            'Humidity(%)', \n",
    "                                            'Visibility (10m)',\n",
    "                                            'Dew point temperature (deg C)',\n",
    "                                            'Solar Radiation (MJ/m2)',\n",
    "                                            'Rainfall(mm)'\n",
    "                                            ]]\n",
    "y_s = df['Rented Bike Count'].values\n",
    "# binarize y\n",
    "y_s = np.where(y_s <= 500, -1, 1)\n",
    "y_s = np.expand_dims(y_s, 1)\n",
    "\n",
    "print(f\"Shape X {X_s.shape}\")\n",
    "print(f\"Shape y {y_s.shape}\")\n",
    "print(\"y distribution: \", np.unique(y_s, return_counts=True))\n",
    "\n",
    "X_s = StandardScaler().fit_transform(X_s)\n",
    "\n",
    "Xtr_s, Xtest_s, Ytr_s, Ytest_s = train_test_split(X_s, y_s, test_size=0.2, random_state=42)"
   ]
  },
  {
   "cell_type": "markdown",
   "id": "4611565f",
   "metadata": {},
   "source": [
    "### Kernel Selection ###\n",
    "\n",
    "Find a proper kernel function to solve the classification task. \n",
    "\n",
    "1. Identify and implement a new kernel function of your choice, e.g., sigmoid kernel. \n",
    "\n",
    "2. Use two other kernels used in 2A, namely `PolynomialKernel` and `GaussianKernel`. \n",
    "\n",
    "3. Try to optimize hyperparameter(s) of each kernel. Please do a bit of background research and select a range of 5 values for the parameters that seem reasonable and create an additional `dev` split from the training data to select the optimal hyperparameter. Then train a model using the best hyperparameter(s) on the whole training set and test the model on the test set. Justify in your report your choice for the 5 values. \n",
    "\n",
    "Discuss how accuracy compares across all methods. \n",
    "\n",
    "*Note: Depending on your implementation, this may take several minutes to run. If you find that it is taking prohibitively long, try to optimize your code. A reasonable accuracy can range from 60% to 80% depending on the selected kernel.* "
   ]
  },
  {
   "cell_type": "code",
   "execution_count": 5,
   "id": "43e85610",
   "metadata": {},
   "outputs": [],
   "source": [
    "Xtr_s, Xval_s = Xtr_s[:int(len(Xtr_s)*0.8)], Xtr_s[int(len(Xtr_s)*0.8):]\n",
    "Ytr_s, Yval_s = Ytr_s[:int(len(Ytr_s)*0.8)], Ytr_s[int(len(Ytr_s)*0.8):]"
   ]
  },
  {
   "cell_type": "code",
   "execution_count": 6,
   "id": "68cebc09",
   "metadata": {
    "scrolled": true
   },
   "outputs": [
    {
     "name": "stdout",
     "output_type": "stream",
     "text": [
      "(640, 7)\n",
      "Accuracy: 76.88%\n",
      "(640, 7)\n",
      "Accuracy: 47.03%\n"
     ]
    },
    {
     "ename": "KeyboardInterrupt",
     "evalue": "",
     "output_type": "error",
     "traceback": [
      "\u001b[0;31m---------------------------------------------------------------------------\u001b[0m",
      "\u001b[0;31mKeyboardInterrupt\u001b[0m                         Traceback (most recent call last)",
      "Cell \u001b[0;32mIn[6], line 5\u001b[0m\n\u001b[1;32m      3\u001b[0m \u001b[38;5;28;01mfor\u001b[39;00m p_val \u001b[38;5;129;01min\u001b[39;00m p_vals:\n\u001b[1;32m      4\u001b[0m     model \u001b[38;5;241m=\u001b[39m KernelPerceptron(kernel\u001b[38;5;241m=\u001b[39mPolynomialKernel(p\u001b[38;5;241m=\u001b[39mp_val), T\u001b[38;5;241m=\u001b[39m\u001b[38;5;241m10\u001b[39m)\n\u001b[0;32m----> 5\u001b[0m     model\u001b[38;5;241m.\u001b[39mfit(Xtr_s, Ytr_s)\n\u001b[1;32m      6\u001b[0m     y_pred_s \u001b[38;5;241m=\u001b[39m model\u001b[38;5;241m.\u001b[39mpredict(Xtr_s)\n\u001b[1;32m      7\u001b[0m     \u001b[38;5;28mprint\u001b[39m(\u001b[38;5;124m'\u001b[39m\u001b[38;5;124mAccuracy: \u001b[39m\u001b[38;5;132;01m%.2f\u001b[39;00m\u001b[38;5;132;01m%%\u001b[39;00m\u001b[38;5;124m'\u001b[39m \u001b[38;5;241m%\u001b[39m (np\u001b[38;5;241m.\u001b[39mmean(y_pred_s \u001b[38;5;241m==\u001b[39m Ytr_s\u001b[38;5;241m.\u001b[39mflatten()) \u001b[38;5;241m*\u001b[39m \u001b[38;5;241m100\u001b[39m))\n",
      "Cell \u001b[0;32mIn[1], line 49\u001b[0m, in \u001b[0;36mKernelPerceptron.fit\u001b[0;34m(self, X, y)\u001b[0m\n\u001b[1;32m     47\u001b[0m \u001b[38;5;28;01mfor\u001b[39;00m _ \u001b[38;5;129;01min\u001b[39;00m \u001b[38;5;28mrange\u001b[39m(\u001b[38;5;28mself\u001b[39m\u001b[38;5;241m.\u001b[39mT):\n\u001b[1;32m     48\u001b[0m     \u001b[38;5;28;01mfor\u001b[39;00m i \u001b[38;5;129;01min\u001b[39;00m \u001b[38;5;28mrange\u001b[39m(n_samples):\n\u001b[0;32m---> 49\u001b[0m         y_pred \u001b[38;5;241m=\u001b[39m np\u001b[38;5;241m.\u001b[39msum(\u001b[38;5;28mself\u001b[39m\u001b[38;5;241m.\u001b[39malpha \u001b[38;5;241m*\u001b[39m \u001b[38;5;28mself\u001b[39m\u001b[38;5;241m.\u001b[39mytra \u001b[38;5;241m*\u001b[39m matrix[i, :])\n\u001b[1;32m     50\u001b[0m         y_pred \u001b[38;5;241m=\u001b[39m np\u001b[38;5;241m.\u001b[39msign(y_pred)\n\u001b[1;32m     51\u001b[0m         \u001b[38;5;28;01mif\u001b[39;00m y_pred \u001b[38;5;241m!=\u001b[39m y[i]:\n",
      "File \u001b[0;32m<__array_function__ internals>:177\u001b[0m, in \u001b[0;36msum\u001b[0;34m(*args, **kwargs)\u001b[0m\n",
      "\u001b[0;31mKeyboardInterrupt\u001b[0m: "
     ]
    }
   ],
   "source": [
    "# find best p for polynomial kernel\n",
    "p_vals = [1,2,3,4,5]\n",
    "for p_val in p_vals:\n",
    "    model = KernelPerceptron(kernel=PolynomialKernel(p=p_val), T=10)\n",
    "    model.fit(Xtr_s, Ytr_s)\n",
    "    y_pred_s = model.predict(Xtr_s)\n",
    "    print('Accuracy: %.2f%%' % (np.mean(y_pred_s == Ytr_s.flatten()) * 100))"
   ]
  },
  {
   "cell_type": "code",
   "execution_count": 7,
   "id": "83c3448b",
   "metadata": {},
   "outputs": [
    {
     "name": "stdout",
     "output_type": "stream",
     "text": [
      "(200, 7)\n",
      "Accuracy: 78.00%\n",
      "(200, 7)\n",
      "Accuracy: 52.50%\n",
      "(200, 7)\n",
      "Accuracy: 71.50%\n",
      "(200, 7)\n",
      "Accuracy: 52.50%\n",
      "(200, 7)\n",
      "Accuracy: 67.50%\n"
     ]
    }
   ],
   "source": [
    "# find best p for polynomial kernel\n",
    "p_vals = [1,2,3,4,5]\n",
    "for p_val in p_vals:\n",
    "    model = KernelPerceptron(kernel=PolynomialKernel(p=p_val), T=10)\n",
    "    model.fit(Xtr_s, Ytr_s)\n",
    "    y_pred_s = model.predict(Xtest_s)\n",
    "    print('Accuracy: %.2f%%' % (np.mean(y_pred_s == Ytest_s.flatten()) * 100))"
   ]
  },
  {
   "cell_type": "code",
   "execution_count": 8,
   "id": "d54095e6",
   "metadata": {},
   "outputs": [
    {
     "name": "stdout",
     "output_type": "stream",
     "text": [
      "(200, 7)\n",
      "Accuracy: 60.50%\n"
     ]
    }
   ],
   "source": [
    "# find best sigma for gaussian kernel\n",
    "model = KernelPerceptron(kernel=GaussianKernel(sigma=0.1), T=10)\n",
    "model.fit(Xtr_s, Ytr_s)\n",
    "y_pred_s = model.predict(Xtest_s)\n",
    "print('Accuracy: %.2f%%' % (np.mean(y_pred_s == Ytest_s.flatten()) * 100))"
   ]
  },
  {
   "cell_type": "code",
   "execution_count": 10,
   "id": "31b66874",
   "metadata": {
    "scrolled": true
   },
   "outputs": [
    {
     "name": "stdout",
     "output_type": "stream",
     "text": [
      "(200, 7)\n",
      "0.01\n",
      "Accuracy: 10.50%\n",
      "(200, 7)\n",
      "0.02\n",
      "Accuracy: 51.00%\n",
      "(200, 7)\n",
      "0.03\n",
      "Accuracy: 68.50%\n",
      "(200, 7)\n",
      "0.04\n",
      "Accuracy: 71.50%\n",
      "(200, 7)\n",
      "0.05\n",
      "Accuracy: 71.00%\n",
      "(200, 7)\n",
      "0.060000000000000005\n",
      "Accuracy: 68.00%\n",
      "(200, 7)\n",
      "0.07\n",
      "Accuracy: 62.00%\n",
      "(200, 7)\n",
      "0.08\n",
      "Accuracy: 61.00%\n",
      "(200, 7)\n",
      "0.09\n",
      "Accuracy: 62.00%\n",
      "(200, 7)\n",
      "0.09999999999999999\n",
      "Accuracy: 60.50%\n",
      "(200, 7)\n",
      "0.10999999999999999\n",
      "Accuracy: 60.00%\n",
      "(200, 7)\n",
      "0.11999999999999998\n",
      "Accuracy: 56.00%\n",
      "(200, 7)\n",
      "0.12999999999999998\n",
      "Accuracy: 56.00%\n",
      "(200, 7)\n",
      "0.13999999999999999\n",
      "Accuracy: 54.50%\n",
      "(200, 7)\n",
      "0.15\n",
      "Accuracy: 54.50%\n"
     ]
    },
    {
     "ename": "KeyboardInterrupt",
     "evalue": "",
     "output_type": "error",
     "traceback": [
      "\u001b[0;31m---------------------------------------------------------------------------\u001b[0m",
      "\u001b[0;31mKeyboardInterrupt\u001b[0m                         Traceback (most recent call last)",
      "Cell \u001b[0;32mIn[10], line 4\u001b[0m\n\u001b[1;32m      2\u001b[0m \u001b[38;5;28;01mwhile\u001b[39;00m i \u001b[38;5;241m<\u001b[39m \u001b[38;5;241m1.5\u001b[39m:\n\u001b[1;32m      3\u001b[0m     model \u001b[38;5;241m=\u001b[39m KernelPerceptron(kernel\u001b[38;5;241m=\u001b[39mGaussianKernel(sigma\u001b[38;5;241m=\u001b[39mi), T\u001b[38;5;241m=\u001b[39m\u001b[38;5;241m10\u001b[39m)\n\u001b[0;32m----> 4\u001b[0m     model\u001b[38;5;241m.\u001b[39mfit(Xtr_s, Ytr_s)\n\u001b[1;32m      5\u001b[0m     y_pred_s \u001b[38;5;241m=\u001b[39m model\u001b[38;5;241m.\u001b[39mpredict(Xtest_s)\n\u001b[1;32m      6\u001b[0m     \u001b[38;5;28mprint\u001b[39m(i)\n",
      "Cell \u001b[0;32mIn[1], line 49\u001b[0m, in \u001b[0;36mKernelPerceptron.fit\u001b[0;34m(self, X, y)\u001b[0m\n\u001b[1;32m     47\u001b[0m \u001b[38;5;28;01mfor\u001b[39;00m _ \u001b[38;5;129;01min\u001b[39;00m \u001b[38;5;28mrange\u001b[39m(\u001b[38;5;28mself\u001b[39m\u001b[38;5;241m.\u001b[39mT):\n\u001b[1;32m     48\u001b[0m     \u001b[38;5;28;01mfor\u001b[39;00m i \u001b[38;5;129;01min\u001b[39;00m \u001b[38;5;28mrange\u001b[39m(n_samples):\n\u001b[0;32m---> 49\u001b[0m         y_pred \u001b[38;5;241m=\u001b[39m np\u001b[38;5;241m.\u001b[39msum(\u001b[38;5;28mself\u001b[39m\u001b[38;5;241m.\u001b[39malpha \u001b[38;5;241m*\u001b[39m \u001b[38;5;28mself\u001b[39m\u001b[38;5;241m.\u001b[39mytra \u001b[38;5;241m*\u001b[39m matrix[i, :])\n\u001b[1;32m     50\u001b[0m         y_pred \u001b[38;5;241m=\u001b[39m np\u001b[38;5;241m.\u001b[39msign(y_pred)\n\u001b[1;32m     51\u001b[0m         \u001b[38;5;28;01mif\u001b[39;00m y_pred \u001b[38;5;241m!=\u001b[39m y[i]:\n",
      "File \u001b[0;32m<__array_function__ internals>:177\u001b[0m, in \u001b[0;36msum\u001b[0;34m(*args, **kwargs)\u001b[0m\n",
      "\u001b[0;31mKeyboardInterrupt\u001b[0m: "
     ]
    }
   ],
   "source": [
    "i = 0.01\n",
    "while i < 1.5:\n",
    "    model = KernelPerceptron(kernel=GaussianKernel(sigma=i), T=10)\n",
    "    model.fit(Xtr_s, Ytr_s)\n",
    "    y_pred_s = model.predict(Xtest_s)\n",
    "    print(i)\n",
    "    print('Accuracy: %.2f%%' % (np.mean(y_pred_s == Ytest_s.flatten()) * 100))\n",
    "    i += 0.01"
   ]
  },
  {
   "cell_type": "code",
   "execution_count": 11,
   "id": "535d0657",
   "metadata": {
    "scrolled": true
   },
   "outputs": [
    {
     "name": "stdout",
     "output_type": "stream",
     "text": [
      "(200, 7)\n",
      "0.04\n",
      "Accuracy: 71.50%\n",
      "(200, 7)\n",
      "0.041\n",
      "Accuracy: 71.00%\n",
      "(200, 7)\n",
      "0.042\n",
      "Accuracy: 71.50%\n",
      "(200, 7)\n",
      "0.043000000000000003\n",
      "Accuracy: 69.50%\n",
      "(200, 7)\n",
      "0.044000000000000004\n",
      "Accuracy: 69.00%\n",
      "(200, 7)\n",
      "0.045000000000000005\n",
      "Accuracy: 69.50%\n",
      "(200, 7)\n",
      "0.046000000000000006\n",
      "Accuracy: 69.00%\n",
      "(200, 7)\n",
      "0.04700000000000001\n",
      "Accuracy: 69.00%\n",
      "(200, 7)\n",
      "0.04800000000000001\n",
      "Accuracy: 69.50%\n",
      "(200, 7)\n",
      "0.04900000000000001\n",
      "Accuracy: 70.50%\n",
      "(200, 7)\n",
      "0.05000000000000001\n",
      "Accuracy: 71.00%\n",
      "(200, 7)\n",
      "0.05100000000000001\n",
      "Accuracy: 71.00%\n",
      "(200, 7)\n",
      "0.05200000000000001\n",
      "Accuracy: 70.00%\n"
     ]
    },
    {
     "ename": "KeyboardInterrupt",
     "evalue": "",
     "output_type": "error",
     "traceback": [
      "\u001b[0;31m---------------------------------------------------------------------------\u001b[0m",
      "\u001b[0;31mKeyboardInterrupt\u001b[0m                         Traceback (most recent call last)",
      "Cell \u001b[0;32mIn[11], line 4\u001b[0m\n\u001b[1;32m      2\u001b[0m \u001b[38;5;28;01mwhile\u001b[39;00m i \u001b[38;5;241m<\u001b[39m \u001b[38;5;241m1.5\u001b[39m:\n\u001b[1;32m      3\u001b[0m     model \u001b[38;5;241m=\u001b[39m KernelPerceptron(kernel\u001b[38;5;241m=\u001b[39mGaussianKernel(sigma\u001b[38;5;241m=\u001b[39mi), T\u001b[38;5;241m=\u001b[39m\u001b[38;5;241m10\u001b[39m)\n\u001b[0;32m----> 4\u001b[0m     model\u001b[38;5;241m.\u001b[39mfit(Xtr_s, Ytr_s)\n\u001b[1;32m      5\u001b[0m     y_pred_s \u001b[38;5;241m=\u001b[39m model\u001b[38;5;241m.\u001b[39mpredict(Xtest_s)\n\u001b[1;32m      6\u001b[0m     \u001b[38;5;28mprint\u001b[39m(i)\n",
      "Cell \u001b[0;32mIn[1], line 44\u001b[0m, in \u001b[0;36mKernelPerceptron.fit\u001b[0;34m(self, X, y)\u001b[0m\n\u001b[1;32m     42\u001b[0m \u001b[38;5;28;01mfor\u001b[39;00m i \u001b[38;5;129;01min\u001b[39;00m \u001b[38;5;28mrange\u001b[39m(n_samples):\n\u001b[1;32m     43\u001b[0m     \u001b[38;5;28;01mfor\u001b[39;00m j \u001b[38;5;129;01min\u001b[39;00m \u001b[38;5;28mrange\u001b[39m(n_samples):\n\u001b[0;32m---> 44\u001b[0m         matrix[i, j] \u001b[38;5;241m=\u001b[39m \u001b[38;5;28mself\u001b[39m\u001b[38;5;241m.\u001b[39mkernel(X[i], X[j])\n\u001b[1;32m     46\u001b[0m \u001b[38;5;66;03m# Training loop to update alpha\u001b[39;00m\n\u001b[1;32m     47\u001b[0m \u001b[38;5;28;01mfor\u001b[39;00m _ \u001b[38;5;129;01min\u001b[39;00m \u001b[38;5;28mrange\u001b[39m(\u001b[38;5;28mself\u001b[39m\u001b[38;5;241m.\u001b[39mT):\n",
      "Cell \u001b[0;32mIn[1], line 23\u001b[0m, in \u001b[0;36mGaussianKernel.__call__\u001b[0;34m(self, x, y)\u001b[0m\n\u001b[1;32m     21\u001b[0m     \u001b[38;5;28;01mdef\u001b[39;00m \u001b[38;5;21m__call__\u001b[39m(\u001b[38;5;28mself\u001b[39m, x, y):\n\u001b[1;32m     22\u001b[0m \u001b[38;5;66;03m#         print(x.shape,y.shape)\u001b[39;00m\n\u001b[0;32m---> 23\u001b[0m         \u001b[38;5;28;01mreturn\u001b[39;00m np\u001b[38;5;241m.\u001b[39mexp(\u001b[38;5;241m-\u001b[39m(np\u001b[38;5;241m.\u001b[39mlinalg\u001b[38;5;241m.\u001b[39mnorm(x \u001b[38;5;241m-\u001b[39m y))\u001b[38;5;241m*\u001b[39m\u001b[38;5;241m*\u001b[39m\u001b[38;5;241m2\u001b[39m\u001b[38;5;241m/\u001b[39m(\u001b[38;5;28mself\u001b[39m\u001b[38;5;241m.\u001b[39msigma\u001b[38;5;241m*\u001b[39m\u001b[38;5;241m*\u001b[39m\u001b[38;5;241m2\u001b[39m))\n",
      "File \u001b[0;32m<__array_function__ internals>:200\u001b[0m, in \u001b[0;36mnorm\u001b[0;34m(*args, **kwargs)\u001b[0m\n",
      "File \u001b[0;32m~/anaconda3/lib/python3.11/site-packages/numpy/linalg/linalg.py:2512\u001b[0m, in \u001b[0;36mnorm\u001b[0;34m(x, ord, axis, keepdims)\u001b[0m\n\u001b[1;32m   2510\u001b[0m \u001b[38;5;28;01melse\u001b[39;00m:\n\u001b[1;32m   2511\u001b[0m     sqnorm \u001b[38;5;241m=\u001b[39m x\u001b[38;5;241m.\u001b[39mdot(x)\n\u001b[0;32m-> 2512\u001b[0m ret \u001b[38;5;241m=\u001b[39m sqrt(sqnorm)\n\u001b[1;32m   2513\u001b[0m \u001b[38;5;28;01mif\u001b[39;00m keepdims:\n\u001b[1;32m   2514\u001b[0m     ret \u001b[38;5;241m=\u001b[39m ret\u001b[38;5;241m.\u001b[39mreshape(ndim\u001b[38;5;241m*\u001b[39m[\u001b[38;5;241m1\u001b[39m])\n",
      "\u001b[0;31mKeyboardInterrupt\u001b[0m: "
     ]
    }
   ],
   "source": [
    "i = 0.04\n",
    "while i < 1.5:\n",
    "    model = KernelPerceptron(kernel=GaussianKernel(sigma=i), T=10)\n",
    "    model.fit(Xtr_s, Ytr_s)\n",
    "    y_pred_s = model.predict(Xtest_s)\n",
    "    print(i)\n",
    "    print('Accuracy: %.2f%%' % (np.mean(y_pred_s == Ytest_s.flatten()) * 100))\n",
    "    i += 0.001"
   ]
  },
  {
   "cell_type": "code",
   "execution_count": 12,
   "id": "cfeaf027",
   "metadata": {},
   "outputs": [
    {
     "name": "stdout",
     "output_type": "stream",
     "text": [
      "(200, 7)\n",
      "0.04\n",
      "Accuracy: 71.00%\n",
      "(200, 7)\n",
      "0.041\n",
      "Accuracy: 70.50%\n",
      "(200, 7)\n",
      "0.042\n",
      "Accuracy: 71.00%\n",
      "(200, 7)\n",
      "0.043000000000000003\n",
      "Accuracy: 69.50%\n",
      "(200, 7)\n",
      "0.044000000000000004\n",
      "Accuracy: 69.00%\n",
      "(200, 7)\n",
      "0.045000000000000005\n",
      "Accuracy: 69.50%\n",
      "(200, 7)\n",
      "0.046000000000000006\n",
      "Accuracy: 69.00%\n",
      "(200, 7)\n",
      "0.04700000000000001\n",
      "Accuracy: 69.00%\n",
      "(200, 7)\n",
      "0.04800000000000001\n",
      "Accuracy: 69.50%\n",
      "(200, 7)\n",
      "0.04900000000000001\n",
      "Accuracy: 70.50%\n",
      "(200, 7)\n",
      "0.05000000000000001\n",
      "Accuracy: 71.00%\n",
      "(200, 7)\n",
      "0.05100000000000001\n",
      "Accuracy: 71.00%\n",
      "(200, 7)\n",
      "0.05200000000000001\n",
      "Accuracy: 70.00%\n",
      "(200, 7)\n",
      "0.05300000000000001\n",
      "Accuracy: 69.50%\n",
      "(200, 7)\n",
      "0.05400000000000001\n",
      "Accuracy: 69.50%\n",
      "(200, 7)\n",
      "0.055000000000000014\n",
      "Accuracy: 69.50%\n",
      "(200, 7)\n",
      "0.056000000000000015\n",
      "Accuracy: 69.00%\n",
      "(200, 7)\n",
      "0.057000000000000016\n",
      "Accuracy: 69.00%\n",
      "(200, 7)\n",
      "0.05800000000000002\n",
      "Accuracy: 67.50%\n",
      "(200, 7)\n",
      "0.05900000000000002\n",
      "Accuracy: 67.50%\n",
      "(200, 7)\n",
      "0.06000000000000002\n",
      "Accuracy: 67.50%\n",
      "(200, 7)\n",
      "0.06100000000000002\n",
      "Accuracy: 66.50%\n",
      "(200, 7)\n",
      "0.06200000000000002\n",
      "Accuracy: 66.50%\n",
      "(200, 7)\n",
      "0.06300000000000001\n",
      "Accuracy: 66.00%\n",
      "(200, 7)\n",
      "0.06400000000000002\n",
      "Accuracy: 64.50%\n",
      "(200, 7)\n",
      "0.06500000000000002\n",
      "Accuracy: 64.50%\n",
      "(200, 7)\n",
      "0.06600000000000002\n",
      "Accuracy: 63.50%\n",
      "(200, 7)\n",
      "0.06700000000000002\n",
      "Accuracy: 63.50%\n",
      "(200, 7)\n",
      "0.06800000000000002\n",
      "Accuracy: 63.50%\n",
      "(200, 7)\n",
      "0.06900000000000002\n",
      "Accuracy: 61.50%\n",
      "(200, 7)\n",
      "0.07000000000000002\n",
      "Accuracy: 62.00%\n",
      "(200, 7)\n",
      "0.07100000000000002\n",
      "Accuracy: 62.00%\n",
      "(200, 7)\n",
      "0.07200000000000002\n",
      "Accuracy: 62.00%\n",
      "(200, 7)\n",
      "0.07300000000000002\n",
      "Accuracy: 61.50%\n",
      "(200, 7)\n",
      "0.07400000000000002\n",
      "Accuracy: 61.50%\n",
      "(200, 7)\n",
      "0.07500000000000002\n",
      "Accuracy: 61.50%\n",
      "(200, 7)\n",
      "0.07600000000000003\n",
      "Accuracy: 61.50%\n",
      "(200, 7)\n",
      "0.07700000000000003\n",
      "Accuracy: 61.50%\n",
      "(200, 7)\n",
      "0.07800000000000003\n",
      "Accuracy: 61.00%\n",
      "(200, 7)\n",
      "0.07900000000000003\n",
      "Accuracy: 61.00%\n",
      "(200, 7)\n",
      "0.08000000000000003\n",
      "Accuracy: 61.00%\n",
      "(200, 7)\n",
      "0.08100000000000003\n",
      "Accuracy: 61.00%\n",
      "(200, 7)\n",
      "0.08200000000000003\n",
      "Accuracy: 61.00%\n",
      "(200, 7)\n",
      "0.08300000000000003\n",
      "Accuracy: 62.00%\n",
      "(200, 7)\n",
      "0.08400000000000003\n",
      "Accuracy: 62.00%\n",
      "(200, 7)\n",
      "0.08500000000000003\n",
      "Accuracy: 62.00%\n",
      "(200, 7)\n",
      "0.08600000000000003\n",
      "Accuracy: 62.00%\n",
      "(200, 7)\n",
      "0.08700000000000004\n",
      "Accuracy: 62.00%\n",
      "(200, 7)\n",
      "0.08800000000000004\n",
      "Accuracy: 62.00%\n",
      "(200, 7)\n",
      "0.08900000000000004\n",
      "Accuracy: 62.00%\n",
      "(200, 7)\n",
      "0.09000000000000004\n",
      "Accuracy: 62.00%\n",
      "(200, 7)\n",
      "0.09100000000000004\n",
      "Accuracy: 62.00%\n",
      "(200, 7)\n",
      "0.09200000000000004\n",
      "Accuracy: 62.00%\n",
      "(200, 7)\n",
      "0.09300000000000004\n",
      "Accuracy: 62.00%\n",
      "(200, 7)\n",
      "0.09400000000000004\n",
      "Accuracy: 62.00%\n",
      "(200, 7)\n",
      "0.09500000000000004\n",
      "Accuracy: 62.00%\n",
      "(200, 7)\n",
      "0.09600000000000004\n",
      "Accuracy: 62.00%\n",
      "(200, 7)\n",
      "0.09700000000000004\n",
      "Accuracy: 62.00%\n",
      "(200, 7)\n",
      "0.09800000000000005\n",
      "Accuracy: 62.00%\n",
      "(200, 7)\n",
      "0.09900000000000005\n",
      "Accuracy: 58.00%\n",
      "(200, 7)\n",
      "0.10000000000000005\n",
      "Accuracy: 60.50%\n",
      "(200, 7)\n",
      "0.10100000000000005\n",
      "Accuracy: 61.00%\n",
      "(200, 7)\n",
      "0.10200000000000005\n",
      "Accuracy: 61.00%\n",
      "(200, 7)\n",
      "0.10300000000000005\n",
      "Accuracy: 61.00%\n",
      "(200, 7)\n",
      "0.10400000000000005\n",
      "Accuracy: 60.50%\n"
     ]
    },
    {
     "ename": "KeyboardInterrupt",
     "evalue": "",
     "output_type": "error",
     "traceback": [
      "\u001b[0;31m---------------------------------------------------------------------------\u001b[0m",
      "\u001b[0;31mKeyboardInterrupt\u001b[0m                         Traceback (most recent call last)",
      "Cell \u001b[0;32mIn[12], line 4\u001b[0m\n\u001b[1;32m      2\u001b[0m \u001b[38;5;28;01mwhile\u001b[39;00m i \u001b[38;5;241m<\u001b[39m \u001b[38;5;241m1.5\u001b[39m:\n\u001b[1;32m      3\u001b[0m     model \u001b[38;5;241m=\u001b[39m KernelPerceptron(kernel\u001b[38;5;241m=\u001b[39mGaussianKernel(sigma\u001b[38;5;241m=\u001b[39mi), T\u001b[38;5;241m=\u001b[39m\u001b[38;5;241m100\u001b[39m)\n\u001b[0;32m----> 4\u001b[0m     model\u001b[38;5;241m.\u001b[39mfit(Xtr_s, Ytr_s)\n\u001b[1;32m      5\u001b[0m     y_pred_s \u001b[38;5;241m=\u001b[39m model\u001b[38;5;241m.\u001b[39mpredict(Xtest_s)\n\u001b[1;32m      6\u001b[0m     \u001b[38;5;28mprint\u001b[39m(i)\n",
      "Cell \u001b[0;32mIn[1], line 49\u001b[0m, in \u001b[0;36mKernelPerceptron.fit\u001b[0;34m(self, X, y)\u001b[0m\n\u001b[1;32m     47\u001b[0m \u001b[38;5;28;01mfor\u001b[39;00m _ \u001b[38;5;129;01min\u001b[39;00m \u001b[38;5;28mrange\u001b[39m(\u001b[38;5;28mself\u001b[39m\u001b[38;5;241m.\u001b[39mT):\n\u001b[1;32m     48\u001b[0m     \u001b[38;5;28;01mfor\u001b[39;00m i \u001b[38;5;129;01min\u001b[39;00m \u001b[38;5;28mrange\u001b[39m(n_samples):\n\u001b[0;32m---> 49\u001b[0m         y_pred \u001b[38;5;241m=\u001b[39m np\u001b[38;5;241m.\u001b[39msum(\u001b[38;5;28mself\u001b[39m\u001b[38;5;241m.\u001b[39malpha \u001b[38;5;241m*\u001b[39m \u001b[38;5;28mself\u001b[39m\u001b[38;5;241m.\u001b[39mytra \u001b[38;5;241m*\u001b[39m matrix[i, :])\n\u001b[1;32m     50\u001b[0m         y_pred \u001b[38;5;241m=\u001b[39m np\u001b[38;5;241m.\u001b[39msign(y_pred)\n\u001b[1;32m     51\u001b[0m         \u001b[38;5;28;01mif\u001b[39;00m y_pred \u001b[38;5;241m!=\u001b[39m y[i]:\n",
      "File \u001b[0;32m<__array_function__ internals>:177\u001b[0m, in \u001b[0;36msum\u001b[0;34m(*args, **kwargs)\u001b[0m\n",
      "\u001b[0;31mKeyboardInterrupt\u001b[0m: "
     ]
    }
   ],
   "source": [
    "i = 0.04\n",
    "while i < 1.5:\n",
    "    model = KernelPerceptron(kernel=GaussianKernel(sigma=i), T=100)\n",
    "    model.fit(Xtr_s, Ytr_s)\n",
    "    y_pred_s = model.predict(Xtest_s)\n",
    "    print(i)\n",
    "    print('Accuracy: %.2f%%' % (np.mean(y_pred_s == Ytest_s.flatten()) * 100))\n",
    "    i += 0.001"
   ]
  },
  {
   "cell_type": "code",
   "execution_count": 15,
   "id": "b14c1889",
   "metadata": {},
   "outputs": [
    {
     "name": "stdout",
     "output_type": "stream",
     "text": [
      "(200, 7)\n",
      "Accuracy: 52.50%\n",
      "(200, 7)\n",
      "Accuracy: 80.50%\n",
      "(200, 7)\n",
      "Accuracy: 64.50%\n",
      "(200, 7)\n",
      "Accuracy: 66.00%\n"
     ]
    }
   ],
   "source": [
    "import math\n",
    "class SigmoidKernel(object):\n",
    "    def __init__(self,alpha=1, c=1):\n",
    "        self.alpha = alpha\n",
    "        self.c = c\n",
    "        \n",
    "    def __call__(self, x, y):\n",
    "        return math.tanh(self.alpha*x@y + self.c)\n",
    "    \n",
    "# find best parameters\n",
    "for alph in [0.1,1,10,100]:\n",
    "    model = KernelPerceptron(kernel=SigmoidKernel(alpha=alph), T=100)\n",
    "    model.fit(Xtr_s, Ytr_s)\n",
    "    y_pred_s = model.predict(Xtest_s)\n",
    "    print('Accuracy: %.2f%%' % (np.mean(y_pred_s == Ytest_s.flatten()) * 100))"
   ]
  },
  {
   "cell_type": "markdown",
   "id": "0098ad2f",
   "metadata": {},
   "source": [
    "# Bonus (10pt): Feature Selection for Task 2B\n",
    "\n",
    "Can you improve on your Accuracy by doing feature selection? Choose a process for doing so and implement it. Explain your choices and the results. What do you notice about the most useful features? Do they make sense to you? You can experiment with one or any kernels for your exploration."
   ]
  },
  {
   "cell_type": "code",
   "execution_count": 27,
   "id": "8f6ac9ad",
   "metadata": {},
   "outputs": [
    {
     "name": "stdout",
     "output_type": "stream",
     "text": [
      "Shape X (1000, 6)\n",
      "Shape y (1000, 1)\n",
      "y distribution:  (array([-1,  1]), array([478, 522]))\n"
     ]
    }
   ],
   "source": [
    "import numpy as np\n",
    "from sklearn.model_selection import train_test_split\n",
    "from sklearn.preprocessing import StandardScaler\n",
    "import pandas as pd\n",
    "\n",
    "filename = 'data/SeoulBikeData.csv'\n",
    "df = pd.read_csv(filename).drop(['Date', 'Seasons', 'Holiday', 'Functioning Day'], axis=1)\n",
    "df = df[(df['Rented Bike Count'] <= 500) | (df['Rented Bike Count'] > 500)]\n",
    "df = df.sample(n=1000, random_state=4)\n",
    "X_s = df.drop(['Rented Bike Count'],  axis=1)[[\n",
    "                                            'Hour', \n",
    "                                            'Temperature (deg C)', \n",
    "                                            'Humidity(%)', \n",
    "                                            'Visibility (10m)',\n",
    "                                            'Dew point temperature (deg C)',\n",
    "                                            'Solar Radiation (MJ/m2)',\n",
    "                                            'Rainfall(mm)'\n",
    "                                            ]]\n",
    "# X_s = X_s.drop('Solar Radiation (MJ/m2)',axis=1)\n",
    "# X_s = X_s.drop('Hour',axis=1)\n",
    "# X_s = X_s.drop('Temperature (deg C)',axis=1)\n",
    "X_s = X_s.drop('Humidity(%)',axis=1)\n",
    "# # X_s = X_s.drop('Visibility (10m)',axis=1)\n",
    "# X_s = X_s.drop('Dew point temperature (deg C)',axis=1)\n",
    "# X_s = X_s.drop('Rainfall(mm)',axis=1)\n",
    "y_s = df['Rented Bike Count'].values\n",
    "# binarize y\n",
    "y_s = np.where(y_s <= 500, -1, 1)\n",
    "y_s = np.expand_dims(y_s, 1)\n",
    "\n",
    "print(f\"Shape X {X_s.shape}\")\n",
    "print(f\"Shape y {y_s.shape}\")\n",
    "print(\"y distribution: \", np.unique(y_s, return_counts=True))\n",
    "\n",
    "X_s = StandardScaler().fit_transform(X_s)\n",
    "\n",
    "Xtr_s, Xtest_s, Ytr_s, Ytest_s = train_test_split(X_s, y_s, test_size=0.2, random_state=42)"
   ]
  },
  {
   "cell_type": "code",
   "execution_count": 21,
   "id": "3c1985b1",
   "metadata": {},
   "outputs": [
    {
     "name": "stdout",
     "output_type": "stream",
     "text": [
      "(200, 6)\n",
      "Accuracy: 52.50%\n",
      "(200, 6)\n",
      "Accuracy: 73.00%\n",
      "(200, 6)\n",
      "Accuracy: 56.00%\n"
     ]
    },
    {
     "ename": "KeyboardInterrupt",
     "evalue": "",
     "output_type": "error",
     "traceback": [
      "\u001b[0;31m---------------------------------------------------------------------------\u001b[0m",
      "\u001b[0;31mKeyboardInterrupt\u001b[0m                         Traceback (most recent call last)",
      "Cell \u001b[0;32mIn[21], line 3\u001b[0m\n\u001b[1;32m      1\u001b[0m \u001b[38;5;28;01mfor\u001b[39;00m alph \u001b[38;5;129;01min\u001b[39;00m [\u001b[38;5;241m0.1\u001b[39m,\u001b[38;5;241m1\u001b[39m,\u001b[38;5;241m10\u001b[39m,\u001b[38;5;241m100\u001b[39m]:\n\u001b[1;32m      2\u001b[0m     model \u001b[38;5;241m=\u001b[39m KernelPerceptron(kernel\u001b[38;5;241m=\u001b[39mSigmoidKernel(alpha\u001b[38;5;241m=\u001b[39malph), T\u001b[38;5;241m=\u001b[39m\u001b[38;5;241m100\u001b[39m)\n\u001b[0;32m----> 3\u001b[0m     model\u001b[38;5;241m.\u001b[39mfit(Xtr_s, Ytr_s)\n\u001b[1;32m      4\u001b[0m     y_pred_s \u001b[38;5;241m=\u001b[39m model\u001b[38;5;241m.\u001b[39mpredict(Xtest_s)\n\u001b[1;32m      5\u001b[0m     \u001b[38;5;28mprint\u001b[39m(\u001b[38;5;124m'\u001b[39m\u001b[38;5;124mAccuracy: \u001b[39m\u001b[38;5;132;01m%.2f\u001b[39;00m\u001b[38;5;132;01m%%\u001b[39;00m\u001b[38;5;124m'\u001b[39m \u001b[38;5;241m%\u001b[39m (np\u001b[38;5;241m.\u001b[39mmean(y_pred_s \u001b[38;5;241m==\u001b[39m Ytest_s\u001b[38;5;241m.\u001b[39mflatten()) \u001b[38;5;241m*\u001b[39m \u001b[38;5;241m100\u001b[39m))\n",
      "Cell \u001b[0;32mIn[1], line 50\u001b[0m, in \u001b[0;36mKernelPerceptron.fit\u001b[0;34m(self, X, y)\u001b[0m\n\u001b[1;32m     48\u001b[0m \u001b[38;5;28;01mfor\u001b[39;00m i \u001b[38;5;129;01min\u001b[39;00m \u001b[38;5;28mrange\u001b[39m(n_samples):\n\u001b[1;32m     49\u001b[0m     y_pred \u001b[38;5;241m=\u001b[39m np\u001b[38;5;241m.\u001b[39msum(\u001b[38;5;28mself\u001b[39m\u001b[38;5;241m.\u001b[39malpha \u001b[38;5;241m*\u001b[39m \u001b[38;5;28mself\u001b[39m\u001b[38;5;241m.\u001b[39mytra \u001b[38;5;241m*\u001b[39m matrix[i, :])\n\u001b[0;32m---> 50\u001b[0m     y_pred \u001b[38;5;241m=\u001b[39m np\u001b[38;5;241m.\u001b[39msign(y_pred)\n\u001b[1;32m     51\u001b[0m     \u001b[38;5;28;01mif\u001b[39;00m y_pred \u001b[38;5;241m!=\u001b[39m y[i]:\n\u001b[1;32m     52\u001b[0m         \u001b[38;5;28mself\u001b[39m\u001b[38;5;241m.\u001b[39malpha[i] \u001b[38;5;241m+\u001b[39m\u001b[38;5;241m=\u001b[39m \u001b[38;5;28mself\u001b[39m\u001b[38;5;241m.\u001b[39meta\n",
      "\u001b[0;31mKeyboardInterrupt\u001b[0m: "
     ]
    }
   ],
   "source": [
    "for alph in [0.1,1,10,100]:\n",
    "    model = KernelPerceptron(kernel=SigmoidKernel(alpha=alph), T=100)\n",
    "    model.fit(Xtr_s, Ytr_s)\n",
    "    y_pred_s = model.predict(Xtest_s)\n",
    "    print('Accuracy: %.2f%%' % (np.mean(y_pred_s == Ytest_s.flatten()) * 100))"
   ]
  },
  {
   "cell_type": "code",
   "execution_count": 28,
   "id": "aef16144",
   "metadata": {},
   "outputs": [
    {
     "name": "stdout",
     "output_type": "stream",
     "text": [
      "(200, 6)\n",
      "Accuracy: 60.50%\n"
     ]
    }
   ],
   "source": [
    "model = KernelPerceptron(kernel=GaussianKernel(sigma=0.1), T=10)\n",
    "model.fit(Xtr_s, Ytr_s)\n",
    "y_pred_s = model.predict(Xtest_s)\n",
    "print('Accuracy: %.2f%%' % (np.mean(y_pred_s == Ytest_s.flatten()) * 100))"
   ]
  },
  {
   "cell_type": "code",
   "execution_count": 29,
   "id": "9ef81257",
   "metadata": {},
   "outputs": [
    {
     "name": "stdout",
     "output_type": "stream",
     "text": [
      "(200, 6)\n",
      "Accuracy: 52.50%\n",
      "(200, 6)\n",
      "Accuracy: 78.50%\n",
      "(200, 6)\n",
      "Accuracy: 70.00%\n",
      "(200, 6)\n",
      "Accuracy: 68.50%\n"
     ]
    }
   ],
   "source": [
    "for alph in [0.1,1,10,100]:\n",
    "    model = KernelPerceptron(kernel=SigmoidKernel(alpha=alph), T=100)\n",
    "    model.fit(Xtr_s, Ytr_s)\n",
    "    y_pred_s = model.predict(Xtest_s)\n",
    "    print('Accuracy: %.2f%%' % (np.mean(y_pred_s == Ytest_s.flatten()) * 100))"
   ]
  },
  {
   "cell_type": "code",
   "execution_count": null,
   "id": "9f6c26d1",
   "metadata": {},
   "outputs": [],
   "source": []
  }
 ],
 "metadata": {
  "kernelspec": {
   "display_name": "Python 3 (ipykernel)",
   "language": "python",
   "name": "python3"
  },
  "language_info": {
   "codemirror_mode": {
    "name": "ipython",
    "version": 3
   },
   "file_extension": ".py",
   "mimetype": "text/x-python",
   "name": "python",
   "nbconvert_exporter": "python",
   "pygments_lexer": "ipython3",
   "version": "3.11.5"
  }
 },
 "nbformat": 4,
 "nbformat_minor": 5
}

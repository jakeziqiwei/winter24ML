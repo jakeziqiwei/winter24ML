{
 "cells": [
  {
   "attachments": {},
   "cell_type": "markdown",
   "id": "eDY78I8-wXdy",
   "metadata": {
    "id": "eDY78I8-wXdy"
   },
   "source": [
    "# Project 1: Regression and Model Selection\n",
    "\n",
    "In this project, you will construct a (linear) regression model, and apply it to a synthetic task as well as a real-world house value prediction task.\n",
    "\n",
    "## Objectives\n",
    "Your goal in this project is to get comfortable in implementing a complete supervised learning pipeline (in Python). To complete this project, you should understand the following:\n",
    "\n",
    "* How to use basic math and machine learning modules in python such as numpy, matplotlib, and sklearn (*_You are encouraged to use numpy to vectorize array operations [see link](https://numpy.org/doc/stable//user/absolute_beginners.html#basic-array-operations)_*)\n",
    "* How to train a regression model *from scratch*\n",
    "* How to implement the *gradient descent* algorithm for iterative model update\n",
    "* How to perform model section when facing multiple choices\n",
    "* How to evaluate the test results and visualize the outcome of an ML model"
   ]
  },
  {
   "attachments": {},
   "cell_type": "markdown",
   "id": "a0af1538",
   "metadata": {},
   "source": [
    "## Deliverable\n",
    "* Project report/writeup: A `project1_report_lastname.pdf` file with corresponding plots and results for the project. Follow the `Project 1 - Report (Individual Submission)` link on Gradescope to upload this file. The project report should include a brief justification of your solution at a high-level, e.g., using any relevant explanations, equations, or pictures that help to explain your solution. You should also describe what your code does, e.g. using a couple of sentences per function to describe your code structure. \n",
    "\n",
    "* Source code: A `project1_src_lastname1[_lastname2].ipynb` (or `.zip`) file with a working copy of your solutions compiled in a Jupyter notebook. Follow the `Project 1 - Source Code (Group Submission)` link to upload this file.\n",
    "\n",
    "\n",
    "## Logistics\n",
    "\n",
    "* You can work in groups of 1-2 students for each course project, and it's your responsibility to find a group (e.g. use Ed Discussion). \n",
    "* Every member of a group must complete and submit the project report/writeup individually. While the source code can be the same for all group members, the project report needs to be written independently by each person and, thus, should differ among team member and students more generally.\n",
    "* One one group member need to submit the source code. If you submit as a group, make sure to include your teammate in the group submission. Instructions for team submission can be found [here](https://help.gradescope.com/article/m5qz2xsnjy-student-add-group-members).\n",
    "* Grades will be provided based on the individual project report. The source code submission will not be graded, but the teaching staff may check the source files if they see the need for reproducing your results when going through your project report. \n",
    "* Failure to submit the source code will lead to a deduction of points from your total.\n"
   ]
  },
  {
   "attachments": {},
   "cell_type": "markdown",
   "id": "d-5QFRQs8KMZ",
   "metadata": {
    "id": "d-5QFRQs8KMZ"
   },
   "source": [
    "## Task 1A: (Warmup) Linear Regression on Synthetic Dataset, *from Scratch*\n",
    "\n",
    "### Loading math, machine learning, and visualization modules\n",
    "We start importing some modules and running some magic commands"
   ]
  },
  {
   "cell_type": "code",
   "execution_count": 3,
   "id": "KSOkRgRg8vIe",
   "metadata": {
    "id": "KSOkRgRg8vIe"
   },
   "outputs": [],
   "source": [
    "%matplotlib inline\n",
    "\n",
    "# General math and plotting modules.\n",
    "import numpy as np\n",
    "import matplotlib.pyplot as plt\n",
    "from matplotlib.colors import ListedColormap\n",
    "\n",
    "# Machine Learning library. \n",
    "from sklearn.model_selection import train_test_split\n",
    "from sklearn.preprocessing import StandardScaler"
   ]
  },
  {
   "attachments": {},
   "cell_type": "markdown",
   "id": "_zC9jNFb_mVJ",
   "metadata": {
    "id": "_zC9jNFb_mVJ"
   },
   "source": [
    "### Utility/helper functions for generating synthetic dataset, plots, etc.\n",
    "\n",
    "Below are a few utility functions for generating plots (you don't have to modify these functions)."
   ]
  },
  {
   "cell_type": "code",
   "execution_count": 4,
   "id": "9BrgqQPf_ll-",
   "metadata": {
    "id": "9BrgqQPf_ll-"
   },
   "outputs": [],
   "source": [
    "def generate_polynomial_data(num_points, noise, w):\n",
    "    dim = w.size - 1\n",
    "    # Generate feature vector \n",
    "    \n",
    "    # We often use np.random.seed for repeatability; \n",
    "    # remove it if you want to inject randomness into your results \n",
    "    np.random.seed(42)\n",
    "\n",
    "    x = np.random.normal(size=(num_points, 1))\n",
    "    x1 = np.power(x, 0)\n",
    "    for d in range(dim):\n",
    "        x1 = np.concatenate((np.power(x, 1 + d), x1), axis=1)  # X = [x, 1].\n",
    "    y = np.dot(x1, w) + np.random.normal(size=(num_points,)) * noise  # y = Xw + eps\n",
    "\n",
    "    return x1, y\n",
    "\n",
    "def plot_data(X, Y, fig=None, options=dict()):\n",
    "    if fig is None:\n",
    "        fig = plt.subplot(111)\n",
    "    fig.plot(X, Y, options.get('marker', 'b*'), \n",
    "        label=options.get('label', 'Raw data'),\n",
    "        fillstyle=options.get('fillstyle', 'full'),\n",
    "        ms=options.get('size', 8))\n",
    "    process_plot(fig, options)\n",
    "\n",
    "def plot_fit(X, w, fig=None, options=dict()):\n",
    "    if fig is None:\n",
    "        fig = plt.subplot(111)\n",
    "\n",
    "    x_min = np.min(X[:, -2])\n",
    "    x_max = np.max(X[:, -2])\n",
    "    dim = w.size - 1\n",
    "    x_plot = np.reshape(np.linspace(x_min, x_max, 100), [-1, 1])\n",
    "    x1_plot = np.ones_like(x_plot)\n",
    "    for d in range(dim):\n",
    "        x1_plot = np.concatenate((np.power(x_plot, 1 + d), x1_plot), axis=1)\n",
    "\n",
    "    y_plot = np.dot(x1_plot, w)\n",
    "    fig.plot(x_plot, y_plot, 'r-', label=options.get('label', 'Regression fit'))\n",
    "    process_plot(fig, options)\n",
    "\n",
    "def process_plot(fig, options=dict()):\n",
    "    if 'x_label' in options.keys():\n",
    "        fig.set_xlabel(options['x_label'])\n",
    "    if 'y_label' in options.keys():\n",
    "        fig.set_ylabel(options['y_label'])\n",
    "    if 'x_lim' in options.keys():\n",
    "        fig.set_ylim(options['x_lim'])\n",
    "    if 'y_lim' in options.keys():\n",
    "        fig.set_ylim(options['y_lim'])\n",
    "    if 'title' in options.keys():\n",
    "        fig.set_title(options['title'])\n",
    "    if 'legend' in options.keys():\n",
    "        if options['legend']:\n",
    "            fig.legend(loc=options.get('legend_loc', 'best'))"
   ]
  },
  {
   "attachments": {},
   "cell_type": "markdown",
   "id": "sMqfxOF-90Wn",
   "metadata": {
    "id": "sMqfxOF-90Wn"
   },
   "source": [
    "### Data loader\n",
    "\n",
    "Loading and processing dataset (you don't have to modify these functions)."
   ]
  },
  {
   "cell_type": "code",
   "execution_count": 5,
   "id": "nbckc1W4-bGt",
   "metadata": {
    "id": "nbckc1W4-bGt"
   },
   "outputs": [
    {
     "data": {
      "image/png": "[encoded data removed]",
      "text/plain": [
       "<Figure size 640x480 with 1 Axes>"
      ]
     },
     "metadata": {},
     "output_type": "display_data"
    }
   ],
   "source": [
    "# Generate the data.\n",
    "num_points = 100  # Number of training points.\n",
    "noise = 0.6  # Noise Level (needed for data generation).\n",
    "\n",
    "w_true = np.array([2, 0.6]) # groundtruth function parameter\n",
    "\n",
    "X, y = generate_polynomial_data(num_points, noise, w_true) # y = X w_true + noise\n",
    "\n",
    "X = StandardScaler().fit_transform(X)\n",
    "X_train, X_test, y_train, y_test = \\\n",
    "    train_test_split(X, y, test_size=.4, random_state=42)\n",
    "\n",
    "# Plot Data\n",
    "fig = plt.subplot(111);\n",
    "plot_opts = {'x_label': '$x$', 'y_label': '$y$', 'title': 'Generated Data', 'y_lim': [np.min(y)-0.5, np.max(y)+0.5]}\n",
    "plot_data(X[:, 0], y, fig=fig, options=plot_opts)"
   ]
  },
  {
   "attachments": {},
   "cell_type": "markdown",
   "id": "QadXjQtrBHXR",
   "metadata": {
    "id": "QadXjQtrBHXR"
   },
   "source": [
    "### Modeling (30pt)\n",
    "\n",
    "In the following, you will write you own loss function for this linear regression task. This could be later used for the regression applications in Task 1B.\n",
    "\n",
    "\n",
    "### The key ingredient of modeling: risk (i.e. expected loss) function and its gradient\n",
    "\n",
    "We will start by fitting by linear regression a set of data points of the type $D = \\left\\{(\\mathbf{x}, y)_i\\right\\}$, $i \\in \\{1, 2, \\ldots, n\\}$.\n",
    "\n",
    "The objective of linear regression, is to find coefficents $\\hat{w}$ such that the residual between $\\hat{y} = \\hat{\\mathbf{w}}^\\top \\tilde{\\mathbf{x}}$, and $y$ is small. (Remember that $\\tilde{\\mathbf{x}} = [\\mathbf{x}, 1]$). From now on, $\\mathbf{x}$ will be considered the extended version unless stated otherwise, hence dropping the tilde notation. \n",
    "\n",
    "We consider the ridge regression risk function, defined as \n",
    "$$ R({\\mathbf{w}}) = \\mathbb{E}[(y-{\\mathbf{w}}^\\top x)^2)] +  \\lambda \\mathbf{w}^\\top \\mathbf{w}$$\n",
    "\n",
    "where the expectation is taken over the data generating the distribution of points. As the whole data generating distribution is not known, the expectation is approximated by samples from the **training** set. \n",
    "\n",
    "The risk is approximated by the *empirical risk* as:\n",
    "\n",
    "\n",
    "$$\\hat{R}_{\\text{ridge}}(\\mathbf{w}) = \\frac{1}{n} \\sum_{i=1}^n \\left(y_i - \\mathbf{w}^\\top \\mathbf{x}_i\\right)^2 + \\lambda \\mathbf{w}^\\top \\mathbf{w}$$\n",
    "\n",
    "In the following, construct a customized funciton which returns the empirical risk and its gradient at parameter $\\theta$:"
   ]
  },
  {
   "cell_type": "code",
   "execution_count": 6,
   "id": "W7gfoERbCtRE",
   "metadata": {
    "id": "W7gfoERbCtRE"
   },
   "outputs": [
    {
     "name": "stdout",
     "output_type": "stream",
     "text": [
      "Loss at initial theta (zeros): [3.47407884] [[-3.45912532]\n",
      " [ 0.        ]]\n"
     ]
    }
   ],
   "source": [
    "# Constructing the empirical risk function for ridge regression.\n",
    "def lossFunction(theta, X, y ,Lambda):\n",
    "    \"\"\"\n",
    "    Take in numpy array of theta, X, and y to return the regularize loss function and gradient\n",
    "    of a logistic regression\n",
    "    \"\"\"\n",
    "    # initialize regularized average loss (empirical risk) and its gradient\n",
    "    regLoss = 0\n",
    "    grad = np.zeros(theta.flatten().shape)\n",
    "    n = len(y)\n",
    "    \n",
    "    for i in range(n):\n",
    "        regLoss += (y[i] - theta.T@X[i])**2\n",
    "        \n",
    "    regLoss *= 1/n\n",
    "    regLoss += Lambda*(theta.T@theta).item()   \n",
    "\n",
    "    for i in range(n):\n",
    "        grad += -2*X[i]*(y[i]-theta.T@X[i])\n",
    "    \n",
    "    grad *= 1/n\n",
    "    grad += 2*Lambda*theta.flatten()\n",
    "    grad = grad.reshape(theta.shape)\n",
    "    \n",
    "    return regLoss, grad\n",
    "\n",
    "# Initialize fitting parameters\n",
    "initial_theta = np.zeros((X.shape[1], 1))\n",
    "\n",
    "# Set regularization parameter lambda\n",
    "Lambda = 0.1\n",
    "\n",
    "#Compute and display initial loss and gradient for regularized logistic regression\n",
    "emp_risk, grad=lossFunction(initial_theta, X, y, Lambda)\n",
    "print(\"Loss at initial theta (zeros):\",emp_risk, grad)\n"
   ]
  },
  {
   "attachments": {},
   "cell_type": "markdown",
   "id": "MxRzx3IrVrJ4",
   "metadata": {
    "id": "MxRzx3IrVrJ4"
   },
   "source": [
    "### Training your ridge regressor: Gradient descent (15pt)\n",
    "\n",
    "There are many algorithmic tools for training your classifier. Here, we use the popular gradient descent algorithm:\n",
    "\n",
    "The parameters $\\hat{\\mathbf{w}}$ can be updated via a gradient descent rule: \n",
    "\n",
    "$$ \\hat{\\mathbf{w}}_{k+1} \\gets \\hat{\\mathbf{w}}_k - \\eta_k \\left.\\frac{\\partial \\hat{R}}{\\partial \\mathbf{w}} \\right|_{\\mathbf{w}=\\mathbf{w}_k},$$\n",
    "\n",
    "where $\\eta_k$ is a parameter of the algorithm, $k$ is the iteration index, and $\\frac{\\partial \\hat{R}}{\\partial \\mathbf{w}}$ is the gradient of the empirical risk function w.r.t. $\\mathbf{w}$.\n",
    "\n",
    "In the *vanilla* gradient descent method, $\\eta(k)=\\eta_0$ is a constant. However other algorithms exists that modify this.\n",
    "\n",
    "The computational complexity of Gradient descent is $O(n_{\\text{iter}} \\cdot  n d)$. \n"
   ]
  },
  {
   "attachments": {},
   "cell_type": "markdown",
   "id": "NrsxE-mPXUvB",
   "metadata": {
    "id": "NrsxE-mPXUvB"
   },
   "source": [
    "Write a customized function `gradientDescent(X,y,theta,eta,Lambda,tolerance)`\n",
    " which returns an array of empirical risk values, one for each iteration, as well as the final output of the model parameter. \n",
    " \n",
    " Here, `tolerance` specifies the stopping condition: The gradient descent algorithm terminates the observed loss values converges (i.e. two consective losses differ by at most `tolerance`). Hint: the loss should be descending in the loss plot."
   ]
  },
  {
   "cell_type": "code",
   "execution_count": 7,
   "id": "R1OdRyuoWgZg",
   "metadata": {
    "id": "R1OdRyuoWgZg"
   },
   "outputs": [
    {
     "name": "stdout",
     "output_type": "stream",
     "text": [
      "The regularized theta using ridge regression:\n",
      " [[1.59421998]\n",
      " [0.        ]]\n"
     ]
    },
    {
     "data": {
      "text/plain": [
       "Text(0.5, 1.0, 'Loss function using Gradient Descent')"
      ]
     },
     "execution_count": 7,
     "metadata": {},
     "output_type": "execute_result"
    },
    {
     "data": {
      "image/png": "[encoded data removed]",
      "text/plain": [
       "<Figure size 640x480 with 1 Axes>"
      ]
     },
     "metadata": {},
     "output_type": "display_data"
    }
   ],
   "source": [
    "def gradientDescent(X,y,theta,eta,Lambda,tolerance):\n",
    "    \"\"\"\n",
    "    Take in numpy array X, y and theta and update theta by taking num_iters gradient steps\n",
    "    with learning rate of eta\n",
    "    \n",
    "    return theta and the list of the loss of theta during each iteration\n",
    "    \"\"\"\n",
    "    Loss_history =[]\n",
    "    \n",
    "    init_risk, init_grad = lossFunction(theta, X, y, Lambda)\n",
    "    Loss_history.append(init_risk)\n",
    "    theta = theta - eta*init_grad\n",
    "    \n",
    "    while True:\n",
    "        risk, grad = lossFunction(theta, X, y, Lambda)\n",
    "        Loss_history.append(risk)\n",
    "        if (Loss_history[-2] - Loss_history[-1]) < tolerance:\n",
    "            break\n",
    "        theta = theta - eta*grad\n",
    "    \n",
    "    return theta, Loss_history\n",
    "\n",
    "Eta = 0.01\n",
    "Tolerance = 1e-6\n",
    "\n",
    "theta, Loss_history = gradientDescent(X_train,y_train,initial_theta,Eta,Lambda,Tolerance)\n",
    "print(\"The regularized theta using ridge regression:\\n\",theta)\n",
    "\n",
    "plt.plot(Loss_history)\n",
    "plt.xlabel(\"Iteration\")\n",
    "plt.ylabel(\"$Loss(\\Theta)$\")\n",
    "plt.title(\"Loss function using Gradient Descent\")\n"
   ]
  },
  {
   "attachments": {},
   "cell_type": "markdown",
   "id": "wwWnkqDVeD9n",
   "metadata": {
    "id": "wwWnkqDVeD9n"
   },
   "source": [
    "### Test module (5pt)\n",
    "\n",
    "We still need a method to evaluate the model constructed. Here, we plot the predicted values on the test data, together with the training points.\n",
    "\n",
    "Let's take a look at the final results.\n"
   ]
  },
  {
   "cell_type": "code",
   "execution_count": 8,
   "id": "YfSEpgt7eMsE",
   "metadata": {
    "id": "YfSEpgt7eMsE"
   },
   "outputs": [
    {
     "data": {
      "image/png": "[encoded data removed]",
      "text/plain": [
       "<Figure size 640x480 with 1 Axes>"
      ]
     },
     "metadata": {},
     "output_type": "display_data"
    }
   ],
   "source": [
    "# Plot predicted function\n",
    "fig = plt.subplot(111)\n",
    "plot_opts = {'x_label': '$x$', 'y_label': '$y$', 'title': 'Ridge Regression', 'legend': True,\n",
    "                 'y_lim': [np.min(y)-0.5, np.max(y)+0.5]}\n",
    "\n",
    "plot_data(X_train[:,0], y_train, fig=fig, options=plot_opts)\n",
    "plot_fit(X_test, theta, fig=fig, options=plot_opts)\n"
   ]
  },
  {
   "attachments": {},
   "cell_type": "markdown",
   "id": "WtqtDFrS1w6Y",
   "metadata": {
    "id": "WtqtDFrS1w6Y"
   },
   "source": [
    "## Task 1B: Real Dataset: House Value Prediction\n",
    "\n",
    "We will use the [California housing dataset](https://scikit-learn.org/stable/modules/generated/sklearn.datasets.fetch_california_housing.html) from the scikit-learn package. The task is to predict the house values in California districts given some summary stats about them based on the 1990 census data.\n",
    "\n",
    "The dataset has 8 features: longitudes, latitudes, housing median age, total rooms, total bedrooms, population, households, median income, and median house value. The target variable is the median house value for California districts, expressed in hundreds of thousands of dollars ($\\$100,000$). We split the dataset as 80\\% for training data and 20\\% for testing data. \n",
    "\n",
    "The following script loads the dataset (using pandas dataframe):"
   ]
  },
  {
   "cell_type": "code",
   "execution_count": 9,
   "id": "WxDckRfM4Ac_",
   "metadata": {
    "id": "WxDckRfM4Ac_"
   },
   "outputs": [],
   "source": [
    "# python\n",
    "import numpy as np\n",
    "import matplotlib.pyplot as plt\n",
    "from sklearn.datasets import fetch_california_housing\n",
    "import pandas as pd\n",
    "\n",
    "california=fetch_california_housing()\n",
    "california_df=pd.DataFrame(california.data,columns=california.feature_names)\n",
    "california_df['Price']=california.target\n",
    "california_df \n",
    "\n",
    "newX=california_df.drop('Price',axis=1)\n",
    "newY=california_df['Price']\n",
    "\n",
    "newX = StandardScaler().fit_transform(newX)"
   ]
  },
  {
   "attachments": {},
   "cell_type": "markdown",
   "id": "OdD-ghQfqpN-",
   "metadata": {
    "id": "OdD-ghQfqpN-"
   },
   "source": [
    "\n",
    "Following the script below, you will be able to generate the training and test data."
   ]
  },
  {
   "cell_type": "code",
   "execution_count": 10,
   "id": "374bab52",
   "metadata": {
    "id": "374bab52"
   },
   "outputs": [],
   "source": [
    "N_train = len(newX) * .8\n",
    "\n",
    "np.random.seed(150)\n",
    "msk = np.random.rand(len(newX)) < 0.8\n",
    "\n",
    "X_train, y_train = newX[msk], newY[msk]\n",
    "X_test, y_test = newX[~msk], newY[~msk]\n",
    "y_train = y_train.to_numpy()\n",
    "y_test = y_test.to_numpy()"
   ]
  },
  {
   "attachments": {},
   "cell_type": "markdown",
   "id": "7CCr2O23sHNq",
   "metadata": {
    "id": "7CCr2O23sHNq"
   },
   "source": [
    "### Training and evaluation (25pt)\n",
    "\n",
    "Write a function to fit the Ridge regression on the training data and calculate the MSE on the training set. Choosing $\\lambda$ from $\\{10^{-10}, 10^{-6}, 10^{-4}, 10^{-2}, 10^{-1}, 1, 10, 20, 50, 100\\}$, compute the estimate $\\hat{\\mathbf{y}}$ for different values $\\lambda$, and plot the test MSE as a function of $\\lambda$. \n",
    "\n",
    "\n",
    "❗**Note**: You should write your own model fitting and prediction (following the ones you construct in Task 1A). You may call your customized function `lossFunction` and `gradientDescent`. Do not use `sklearn.linear_model` module (i.e. for model fitting and making predictions)."
   ]
  },
  {
   "cell_type": "code",
   "execution_count": 11,
   "id": "54cdd721",
   "metadata": {
    "id": "54cdd721"
   },
   "outputs": [],
   "source": [
    "def train_and_eval( X_train , y_train , X_eval , y_eval , lambda_ ):\n",
    "    \n",
    "    mse = 0\n",
    "    initial_theta = np.zeros((X_train.shape[1], 1))\n",
    "    Eta = 0.01\n",
    "    Tolerance = 1e-6\n",
    "    theta, _ = gradientDescent(X_train,y_train,initial_theta,Eta,lambda_,Tolerance)\n",
    "    \n",
    "    for i in range(len(y_eval)):\n",
    "        mse += ((y_eval[i] - X_eval[i]@theta)[0])**2\n",
    "        \n",
    "    return mse\n",
    "\n",
    "weight_list = [1e-10, 1e-6, 1e-4, 0.01, 0.1, 1, 10, 20, 50, 100]\n",
    "result_list = []\n",
    "\n",
    "# compute test MSE\n",
    "for weight in weight_list:\n",
    "    test_mse = train_and_eval(X_train , y_train , X_test , y_test , weight)\n",
    "    result_list.append([test_mse, weight])\n",
    "    result_array = np.array (result_list)\n",
    "    \n",
    "print(result_array)\n",
    "plt.figure()\n",
    "plt.plot( result_array [: , -1] , result_array [: ,0] , label = 'test mse')\n",
    "plt.xlabel('lambda')\n",
    "plt.ylabel('test mse')\n",
    "plt.yscale('log')\n",
    "plt.legend()\n",
    "plt.show()"
   ]
  },
  {
   "attachments": {},
   "cell_type": "markdown",
   "id": "__Sith5GtlSC",
   "metadata": {
    "id": "__Sith5GtlSC"
   },
   "source": [
    "### Model selection via k-fold cross validation (25pt)\n",
    "\n",
    "Implement *10-fold cross validation* on the training set to select $\\lambda$. \n",
    "\n",
    "Plot and compare the MSE on the hold-out set with the true MSE which is computed on the test set. And see how we get to finding the ``best'' $\\lambda$.\n",
    "\n",
    "❗**Note:** For this subproblem, you should write your own function for cross validation; in particular, you should **not** call the existing `sklearn.model_selection` module."
   ]
  },
  {
   "cell_type": "code",
   "execution_count": null,
   "id": "809941e2",
   "metadata": {},
   "outputs": [],
   "source": [
    "def cross_validation(X_train, y_train, lambda_, k=10):\n",
    "    \"\"\"\n",
    "    Perform k-fold cross validation on X_train and y_train.\n",
    "    \"\"\"\n",
    "    # add your code to perform k-fold cross validation\n",
    "    #\n",
    "    #\n",
    "    #\n",
    "    #\n",
    "    return mse\n",
    "\n",
    "\n",
    "# List of lambdas to try\n",
    "weight_list = [1e-10, 1e-6, 1e-4, 0.01, 0.1, 1, 10, 20, 50, 100]\n",
    "\n",
    "best_lambda = None\n",
    "best_mse = np.inf\n",
    "\n",
    "# Find the best lambda\n",
    "for lambda_ in weight_list:\n",
    "    print(\"cross validation with lambda: \", lambda_)\n",
    "    mse = cross_validation(X_train, y_train, lambda_)\n",
    "    if mse < best_mse:\n",
    "        best_mse = mse\n",
    "        best_lambda = lambda_\n",
    "\n",
    "print(\"Best lambda: \", best_lambda)\n"
   ]
  },
  {
   "attachments": {},
   "cell_type": "markdown",
   "id": "134d30d0",
   "metadata": {},
   "source": [
    "# Bonus (10pt): Implementing LASSO Regression\n",
    "\n",
    "In this bonus question, you will implement LASSO regression for [California housing dataset](https://scikit-learn.org/stable/modules/generated/sklearn.datasets.fetch_california_housing.html).\n",
    "\n",
    "Following the previous notation, we consider the Lasso regression risk function, defined as \n",
    "$$ R({\\mathbf{w}}) = \\mathbb{E}[(y-{\\mathbf{w}}^\\top x)^2)] +  \\lambda ||\\mathbf{w}||_1$$\n",
    "\n",
    "where the expectation is taken over the data generating the distribution of points. As the whole data generating distribution is not known, the expectation is approximated by samples from the **training** set. \n",
    "\n",
    "The risk is approximated by the *empirical risk* as:\n",
    "\n",
    "$$\\hat{R}_{\\text{lasso}}(\\mathbf{w}) = \\frac{1}{n} \\sum_{i=1}^n \\left(y_i - \\mathbf{w}^\\top \\mathbf{x}_i\\right)^2 + \\lambda ||\\mathbf{w}||_1$$\n",
    "\n",
    "In the following, construct a customized function which returns the empirical risk and its gradient at parameter $\\theta$:\n",
    "\n",
    "❗**Note**: You should write your own model fitting and prediction (following the ones you construct in Task 1A). You may call your customized function `lossFunctionLASSO`, `gradientDescent` and `train_and_eval`. Do not use `sklearn.linear_model` module (i.e. for model fitting and making predictions)."
   ]
  },
  {
   "cell_type": "code",
   "execution_count": null,
   "id": "70a89f52",
   "metadata": {},
   "outputs": [],
   "source": [
    "# Constructing the empirical risk function for LASSO regression.\n",
    "def lossFunctionLASSO(theta, X, y ,Lambda):\n",
    "    \"\"\"\n",
    "    Take in numpy array of theta, X, and y to return the regularize loss function and gradient\n",
    "    of a LASSO regression\n",
    "    \"\"\"\n",
    "    # initialize regularized average loss (empirical risk) and its gradient\n",
    "    regLoss = 0\n",
    "    grad = np.zeros(theta.shape)\n",
    "\n",
    "    # add your code to compute the LASSO regression risk function and its gradient #\n",
    "    # \n",
    "     \n",
    "    return regLoss, grad\n",
    "\n",
    "def gradientDescent(X,y,theta,eta,Lambda,tolerance,max_iter=1000):\n",
    "    # you can reuse your code from ridge regression and modify it accordingly #\n",
    "    return theta, Loss_history\n",
    "\n",
    "def train_and_eval( X_train , y_train , X_eval , y_eval , lambda_ ):\n",
    "    # you can reuse your code from ridge regression and modify it accordingly #\n",
    "    \n",
    "    return mse\n",
    "\n",
    "\n",
    "weight_list = [1e-10, 1e-6, 1e-4, 0.01, 0.1, 1, 10, 20, 50, 100]\n",
    "result_list = []\n",
    "\n",
    "# compute test MSE\n",
    "for weight in weight_list:\n",
    "    test_mse = train_and_eval ( X_train , y_train , X_test , y_test , weight )\n",
    "    result_list.append ([ test_mse , weight ])\n",
    "    result_array = np.array ( result_list )\n",
    "\n",
    "plt.figure()\n",
    "plt.plot( result_array [: , -1] , result_array [: ,0] , label = 'test mse')\n",
    "plt.xlabel('lambda')\n",
    "plt.ylabel('test mse')\n",
    "plt.yscale('log')\n",
    "plt.legend()\n",
    "plt.show()"
   ]
  }
 ],
 "metadata": {
  "colab": {
   "provenance": [],
   "toc_visible": true
  },
  "kernelspec": {
   "display_name": "Python 3 (ipykernel)",
   "language": "python",
   "name": "python3"
  },
  "language_info": {
   "codemirror_mode": {
    "name": "ipython",
    "version": 3
   },
   "file_extension": ".py",
   "mimetype": "text/x-python",
   "name": "python",
   "nbconvert_exporter": "python",
   "pygments_lexer": "ipython3",
   "version": "3.11.3"
  },
  "vscode": {
   "interpreter": {
    "hash": "31f2aee4e71d21fbe5cf8b01ff0e069b9275f58929596ceb00d14d90e3e16cd6"
   }
  }
 },
 "nbformat": 4,
 "nbformat_minor": 5
}
